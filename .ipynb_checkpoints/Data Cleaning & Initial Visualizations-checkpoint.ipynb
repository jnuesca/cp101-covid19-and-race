{
 "cells": [
  {
   "cell_type": "markdown",
   "metadata": {},
   "source": [
    "## CP101 - Assignment 3: COVID-19 & Race"
   ]
  },
  {
   "cell_type": "code",
   "execution_count": null,
   "metadata": {},
   "outputs": [],
   "source": [
    "import pandas as pd\n",
    "import numpy as np\n",
    "import matplotlib.pyplot as plt\n",
    "import plotly.io as pio\n",
    "import seaborn as sns\n",
    "import statsmodels.api as sm"
   ]
  },
  {
   "cell_type": "code",
   "execution_count": null,
   "metadata": {},
   "outputs": [],
   "source": [
    "nyc = pd.read_csv('nyc-covid-by-zip.csv')\n",
    "nyc_hospitals = pd.read_csv('hospitals-2011.csv')\n",
    "nyc_jobs = pd.read_csv('nyc-jobs-by-zip.csv')"
   ]
  },
  {
   "cell_type": "markdown",
   "metadata": {},
   "source": [
    "## Data Cleaning"
   ]
  },
  {
   "cell_type": "markdown",
   "metadata": {},
   "source": [
    "### Hospital Data\n",
    "This dataset contains public hospitals in NYC I think.\n",
    "- grouped the hospitals by zip code"
   ]
  },
  {
   "cell_type": "code",
   "execution_count": null,
   "metadata": {},
   "outputs": [],
   "source": [
    "## counting the number of public (?) hospitals by zip code\n",
    "nyc_hospitals_zip = nyc_hospitals.groupby(['Postcode'], as_index=False).count()\n",
    "nyc_hospitals_zip = nyc_hospitals_zip[['Postcode', 'Facility Type']].rename(columns={\"Postcode\": \"MODZCTA\",\"Facility Type\":\"num_hospitals\"})\n",
    "nyc_hospitals_zip.head()\n"
   ]
  },
  {
   "cell_type": "markdown",
   "metadata": {},
   "source": [
    "### NYC Covid Data \n",
    "This dataset contains # of positive COVID cases, # of COVID tests, and racial breakdown by zip code\n",
    "- changed the zip codes to be integers \n",
    "- renamed MODZCTA column to ZCTA"
   ]
  },
  {
   "cell_type": "code",
   "execution_count": null,
   "metadata": {},
   "outputs": [],
   "source": [
    "#renaming columns\n",
    "new_modzcta = nyc['MODZCTA'].astype(int)\n",
    "nyc['MODZCTA'] = new_modzcta\n",
    "nyc.rename(columns={'MODZCTA': 'ZCTA'}, inplace=True)\n",
    "nyc"
   ]
  },
  {
   "cell_type": "markdown",
   "metadata": {},
   "source": [
    "### Job Data\n",
    "This dataset contains job types by zip codes. (Source: LEHD) \n",
    "- renamed zip code column to be ZCTA\n",
    "- made the percentages into actual percentages (integers)"
   ]
  },
  {
   "cell_type": "code",
   "execution_count": null,
   "metadata": {
    "scrolled": false
   },
   "outputs": [],
   "source": [
    "## renaming columns\n",
    "nyc_jobs.rename(columns={\"Unnamed: 0\": 'ZCTA'}, inplace=True)\n",
    "\n",
    "## filling all ZCTA\n",
    "nyc_jobs.fillna(method='ffill', inplace=True)\n",
    "nyc_jobs_clean = nyc_jobs.drop(nyc_jobs[(nyc_jobs['Unnamed: 1'] == 'Count') | (nyc_jobs['ZCTA'] == '11001 (Partial)') | (nyc_jobs['ZCTA'] == '11040 (Partial)')].index)\n",
    "nyc_jobs_clean.sort_values('ZCTA')\n",
    "\n",
    "##making zcta into integer\n",
    "new_zcta = nyc_jobs_clean['ZCTA'].astype(int)\n",
    "nyc_jobs_clean['ZCTA'] = new_zcta\n",
    "\n",
    "##changing % from strings to float\n",
    "job_types = nyc_jobs_clean.columns.tolist()[2:]\n",
    "job_types\n",
    "\n",
    "newcol=[]\n",
    "for i in job_types: #looping through column names of job types\n",
    "    nyc_jobs_clean[i] = nyc_jobs_clean[i].apply(lambda x: x[:-1])\n",
    "    nyc_jobs_clean[i] = pd.to_numeric(nyc_jobs_clean[i], errors=\"coerce\")\n",
    "    nyc_jobs_clean[i] = nyc_jobs_clean[i]/100\n",
    "    \n",
    "nyc_jobs_clean.head()\n",
    "    "
   ]
  },
  {
   "cell_type": "markdown",
   "metadata": {},
   "source": [
    "### Final Dataset (woo)\n",
    "This dataset includes # of positive COVID cases, racial compostion, and job type by zip code.\n",
    "\n",
    "- merged the nyc dataset w/ the jobs dataset\n",
    "- replaced blanks w/ nan"
   ]
  },
  {
   "cell_type": "code",
   "execution_count": null,
   "metadata": {},
   "outputs": [],
   "source": [
    "### joining with joined_nyc\n",
    "nyc_final = pd.merge(nyc, nyc_jobs_clean, on='ZCTA', how='left')\n",
    "\n",
    "### replacing all blanks with NaN\n",
    "nyc_final = nyc_final.replace(r'^\\s*$', np.nan, regex=True)\n",
    "nyc_final"
   ]
  },
  {
   "cell_type": "markdown",
   "metadata": {},
   "source": [
    "## Forming Dataset w/ Categorical Data"
   ]
  },
  {
   "cell_type": "markdown",
   "metadata": {},
   "source": [
    "### Race\n",
    "- \"majority\" group = white = 1\n",
    "- \"minority\" groups = non white = 0 "
   ]
  },
  {
   "cell_type": "code",
   "execution_count": null,
   "metadata": {},
   "outputs": [],
   "source": [
    "## forming a smaller dataset\n",
    "\n",
    "zcta = nyc_final['ZCTA']\n",
    "percent_pos = nyc_final['percent_pos']\n",
    "median_inc = nyc_final['median_inc']\n",
    "\n",
    "nyc_cat = pd.DataFrame(zcta)\n",
    "nyc_cat['percent_pos'] = percent_pos\n",
    "nyc_cat['median_inc'] = median_inc\n",
    "\n",
    "nyc_cat.head()"
   ]
  },
  {
   "cell_type": "code",
   "execution_count": null,
   "metadata": {},
   "outputs": [],
   "source": [
    "#list of race column names\n",
    "minority = nyc_final.columns[8:14].tolist()\n",
    "\n",
    "#summing percent minority\n",
    "perc_minority = nyc_final[minority].sum(axis=1)\n",
    "\n",
    "# sorting into 0-1 buckets (1 = mainly white)\n",
    "col = []\n",
    "for i in perc_minority:\n",
    "    if i <= 0.5:\n",
    "        col.append(1)\n",
    "    else:\n",
    "        col.append(0)\n",
    "\n",
    "nyc_cat['perc_minority'] = perc_minority\n",
    "nyc_cat['perc_majority'] = 1-perc_minority\n",
    "nyc_cat['majority'] = col\n",
    "\n",
    "nyc_cat.head()"
   ]
  },
  {
   "cell_type": "markdown",
   "metadata": {},
   "source": [
    "### Job Type\n",
    "- white collar jobs (in office): 1\n",
    "- blue collar jobs: 0"
   ]
  },
  {
   "cell_type": "code",
   "execution_count": null,
   "metadata": {},
   "outputs": [],
   "source": [
    "job_types"
   ]
  },
  {
   "cell_type": "code",
   "execution_count": null,
   "metadata": {},
   "outputs": [],
   "source": [
    "wfh = ['Information', 'Finance and Insurance', 'Real Estate and Rental and Leasing', 'Professional, Scientific, and Technical Services', 'Management of Companies and Enterprises', 'Educational Services']\n",
    "non_ess = ['Retail Trade','Administration & Support, Waste Management and Remediation','Arts, Entertainment, and Recreation','Other Services (excluding Public Administration)']\n",
    "ess = ['Agriculture, Forestry, Fishing and Hunting','Mining, Quarrying, and Oil and Gas Extraction','Utilities','Construction','Manufacturing','Wholesale Trade','Transportation and Warehousing','Health Care and Social Assistance','Accommodation and Food Services','Public Administration']\n",
    "\n",
    "nyc_final['perc_wfh'] = nyc_final[wfh].sum(axis=1)\n",
    "nyc_final['perc_non_ess'] = nyc_final[non_ess].sum(axis=1)\n",
    "nyc_final['perc_ess'] = nyc_final[ess].sum(axis=1)\n",
    "nyc_final.head()"
   ]
  },
  {
   "cell_type": "code",
   "execution_count": null,
   "metadata": {},
   "outputs": [],
   "source": [
    "#list of blue collar jobs\n",
    "job_types\n",
    "blue = ['Agriculture, Forestry, Fishing and Hunting', 'Mining, Quarrying, and Oil and Gas Extraction',\n",
    "       'Utilities', 'Construction', 'Manufacturing', 'Wholesale Trade', 'Retail Trade', 'Transportation and Warehousing',\n",
    "       'Administration & Support, Waste Management and Remediation', 'Health Care and Social Assistance',\n",
    "       'Accommodation and Food Services']\n",
    "\n",
    "perc_blue = nyc_final[blue].sum(axis=1)\n",
    "\n",
    "# sorting into 0-1 buckets (1 = white collar)\n",
    "col = []\n",
    "for i in perc_blue:\n",
    "    if i <= 0.5:\n",
    "        col.append(1)\n",
    "    else:\n",
    "        col.append(0)\n",
    "\n",
    "nyc_cat['perc_blue'] = perc_blue\n",
    "nyc_cat['perc_white'] = 1-perc_blue\n",
    "nyc_cat['white_collar'] = col\n",
    "\n",
    "nyc_cat\n"
   ]
  },
  {
   "cell_type": "markdown",
   "metadata": {},
   "source": [
    "## Exploratory Data Analysis"
   ]
  },
  {
   "cell_type": "markdown",
   "metadata": {},
   "source": [
    "### Percent Positive as a function of Median Income"
   ]
  },
  {
   "cell_type": "code",
   "execution_count": null,
   "metadata": {},
   "outputs": [],
   "source": [
    "nyc_cat = nyc_cat[nyc_cat['percent_pos'].notna()]\n",
    "nyc_cat = nyc_cat[nyc_cat['median_inc'].notna()]\n",
    "nyc_cat['log_percent_pos'] = nyc_cat['percent_pos'].apply(np.log)\n",
    "nyc_cat = nyc_cat[nyc_cat['log_percent_pos'] != -np.inf]\n",
    "#nyc_cat['log_percent_pos'].value_counts()"
   ]
  },
  {
   "cell_type": "code",
   "execution_count": null,
   "metadata": {},
   "outputs": [],
   "source": [
    "from sklearn.linear_model import LinearRegression\n",
    "reg = LinearRegression().fit(np.vstack(nyc_cat['median_inc']), nyc_cat['percent_pos'])\n",
    "nyc_cat['best_fit_lin'] = reg.predict(np.vstack(nyc_cat['median_inc']))\n",
    "\n",
    "reg2 = LinearRegression().fit(np.vstack(nyc_cat['median_inc']), nyc_cat['log_percent_pos'])\n",
    "nyc_cat['best_fit_log'] = reg2.predict(np.vstack(nyc_cat['median_inc']))"
   ]
  },
  {
   "cell_type": "code",
   "execution_count": null,
   "metadata": {},
   "outputs": [],
   "source": [
    "score1, score2 = np.sqrt(reg.score(np.vstack(nyc_cat['median_inc']), nyc_cat['percent_pos'])), np.sqrt(reg2.score(np.vstack(nyc_cat['median_inc']), nyc_cat['log_percent_pos']))\n"
   ]
  },
  {
   "cell_type": "code",
   "execution_count": null,
   "metadata": {
    "scrolled": false
   },
   "outputs": [],
   "source": [
    "import plotly\n",
    "import plotly.graph_objects as go\n",
    "\n",
    "fig = go.Figure()\n",
    "\n",
    "fig.add_trace(go.Scatter(x=nyc_cat['median_inc'],\n",
    "                y=nyc_cat['percent_pos'],\n",
    "                text=nyc_cat['ZCTA'],\n",
    "                name='lin_y',\n",
    "                mode='markers'))\n",
    "\n",
    "fig.add_trace(go.Scatter(name='linear line of best fit',\n",
    "                        x=nyc_cat['median_inc'],\n",
    "                        y=nyc_cat['best_fit_lin'],\n",
    "                        mode='lines',\n",
    "                        text='r= ' + str(score1)))\n",
    "\n",
    "fig.add_trace(go.Scatter(x=nyc_cat['median_inc'],\n",
    "                y=nyc_cat['log_percent_pos'],\n",
    "                text=nyc_cat['ZCTA'],\n",
    "                name='log_y',\n",
    "                mode='markers',\n",
    "                visible=False))\n",
    "\n",
    "fig.add_trace(go.Scatter(name='log line of best fit',\n",
    "                        x=nyc_cat['median_inc'],\n",
    "                        y=nyc_cat['best_fit_log'],\n",
    "                        mode='lines',\n",
    "                        text='r= ' + str(score2),\n",
    "                        visible=False))\n",
    "\n",
    "fig.update_layout(\n",
    "    updatemenus=[\n",
    "        dict(\n",
    "            type=\"buttons\",\n",
    "            direction=\"right\",\n",
    "            active=0,\n",
    "            xanchor='left',\n",
    "            yanchor='top',\n",
    "            x=0,\n",
    "            y=1.1,\n",
    "            buttons=list([\n",
    "                dict(label=\"linear\",\n",
    "                     method=\"update\",\n",
    "                     args=[{\"visible\": [True, True, False, False]},\n",
    "                           {\"title\": \"Median Income and Log Percentage of Positive Tests\",\n",
    "                            \"xaxis\": {\"title\": \"Median Income\"},\n",
    "                            \"yaxis\": {\"title\": \"Percentage of Positve Tests\"}}]),\n",
    "                \n",
    "                dict(label=\"log\",\n",
    "                     method=\"update\",\n",
    "                     args=[{\"visible\": [False, False, True, True]},\n",
    "                           {\"title\": \"Median Income and Log Percentage of Positive Tests\",\n",
    "                            \"xaxis\": {\"title\": \"Median Income\"},\n",
    "                            \"yaxis\": {\"title\": \"log(Percentage of Positve Tests)\"}}])\n",
    "            ]),\n",
    "        )\n",
    "    ])\n",
    "\n",
    "\n",
    "fig.update_layout(title='Median Income and Percentage of Positive Tests',\n",
    "                 xaxis_title='Median Income',\n",
    "                 yaxis_title='Percentage of Positive Tests',\n",
    "                 showlegend=False)\n",
    "\n",
    "fig.show()"
   ]
  },
  {
   "cell_type": "code",
   "execution_count": null,
   "metadata": {},
   "outputs": [],
   "source": [
    "#Export above figure to an .html file for hosting.\n",
    "pio.write_html(fig, file='income-percentage.html', auto_open=False)"
   ]
  },
  {
   "cell_type": "code",
   "execution_count": null,
   "metadata": {
    "scrolled": true
   },
   "outputs": [],
   "source": [
    "##plotting percent positive against median income\n",
    "sns.regplot('median_inc', 'percent_pos', data=nyc_final);"
   ]
  },
  {
   "cell_type": "markdown",
   "metadata": {},
   "source": [
    "### Percent Positive as a function of Race"
   ]
  },
  {
   "cell_type": "code",
   "execution_count": null,
   "metadata": {},
   "outputs": [],
   "source": [
    "nyc_final.columns"
   ]
  },
  {
   "cell_type": "markdown",
   "metadata": {},
   "source": [
    "#### Subplots"
   ]
  },
  {
   "cell_type": "code",
   "execution_count": null,
   "metadata": {},
   "outputs": [],
   "source": [
    "nyc_final = nyc_final[nyc_final['percent_pos'].notna()]"
   ]
  },
  {
   "cell_type": "code",
   "execution_count": null,
   "metadata": {},
   "outputs": [],
   "source": [
    "from sklearn.linear_model import LinearRegression\n",
    "reg_white = LinearRegression().fit(np.vstack(nyc_final['perc_white']), nyc_final['percent_pos'])\n",
    "nyc_final['best_fit_white'] = reg_white.predict(np.vstack(nyc_final['perc_white']))\n",
    "white_score = np.sqrt(reg_white.score(np.vstack(nyc_final['perc_white']), nyc_final['percent_pos']))\n",
    "\n",
    "reg_black = LinearRegression().fit(np.vstack(nyc_final['perc_black']), nyc_final['percent_pos'])\n",
    "nyc_final['best_fit_black'] = reg_black.predict(np.vstack(nyc_final['perc_black']))\n",
    "black_score = np.sqrt(reg_black.score(np.vstack(nyc_final['perc_black']), nyc_final['percent_pos']))\n",
    "\n",
    "reg_native = LinearRegression().fit(np.vstack(nyc_final['perc_native']), nyc_final['percent_pos'])\n",
    "nyc_final['best_fit_native'] = reg_native.predict(np.vstack(nyc_final['perc_native']))\n",
    "native_score = np.sqrt(reg_native.score(np.vstack(nyc_final['perc_native']), nyc_final['percent_pos']))\n",
    "\n",
    "reg_asian = LinearRegression().fit(np.vstack(nyc_final['perc_asian']), nyc_final['percent_pos'])\n",
    "nyc_final['best_fit_asian'] = reg_asian.predict(np.vstack(nyc_final['perc_asian']))\n",
    "asian_score = np.sqrt(reg_asian.score(np.vstack(nyc_final['perc_asian']), nyc_final['percent_pos']))\n",
    "\n",
    "reg_hawaiian = LinearRegression().fit(np.vstack(nyc_final['perc_hawaiian']), nyc_final['percent_pos'])\n",
    "nyc_final['best_fit_hawaiian'] = reg_hawaiian.predict(np.vstack(nyc_final['perc_hawaiian']))\n",
    "hawaiian_score = np.sqrt(reg_hawaiian.score(np.vstack(nyc_final['perc_hawaiian']), nyc_final['percent_pos']))\n",
    "\n",
    "reg_other = LinearRegression().fit(np.vstack(nyc_final['perc_other']), nyc_final['percent_pos'])\n",
    "nyc_final['best_fit_other'] = reg_other.predict(np.vstack(nyc_final['perc_other']))\n",
    "other_score = np.sqrt(reg_other.score(np.vstack(nyc_final['perc_other']), nyc_final['percent_pos']))\n",
    "\n",
    "reg_two = LinearRegression().fit(np.vstack(nyc_final['perc_two']), nyc_final['percent_pos'])\n",
    "nyc_final['best_fit_two'] = reg_two.predict(np.vstack(nyc_final['perc_two']))\n",
    "two_score = np.sqrt(reg_two.score(np.vstack(nyc_final['perc_two']), nyc_final['percent_pos']))"
   ]
  },
  {
   "cell_type": "code",
   "execution_count": null,
   "metadata": {},
   "outputs": [],
   "source": [
    "from plotly.subplots import make_subplots\n",
    "\n",
    "fig = make_subplots(rows=3, cols=3,\n",
    "                   subplot_titles=[\"White\", \"Black\", \"Native\", \"Asian\", \"Hawaiian\", \"Other\", \"Two Races\"],\n",
    "                   shared_yaxes=False)\n",
    "\n",
    "fig.add_trace(go.Scatter(x=nyc_final['perc_white'],y=nyc_final['percent_pos'], mode=\"markers\",opacity=0.5,text=nyc_final['ZCTA']), row=1, col=1)\n",
    "fig.add_trace(go.Scatter(x=nyc_final['perc_white'], y=nyc_final['best_fit_white'],mode='lines',text='r= ' + np.str(white_score)), row=1, col=1)\n",
    "\n",
    "fig.add_trace(go.Scatter(x=nyc_final['perc_black'],y=nyc_final['percent_pos'], mode=\"markers\",opacity=0.5,text=nyc_final['ZCTA']), row=1, col=2)\n",
    "fig.add_trace(go.Scatter(x=nyc_final['perc_black'], y=nyc_final['best_fit_black'],mode='lines',text='r= ' + np.str(black_score)), row=1, col=2)\n",
    "\n",
    "fig.add_trace(go.Scatter(x=nyc_final['perc_native'],y=nyc_final['percent_pos'], mode=\"markers\",opacity=0.5,text=nyc_final['ZCTA']), row=1, col=3)\n",
    "fig.add_trace(go.Scatter(x=nyc_final['perc_native'], y=nyc_final['best_fit_native'],mode='lines',text='r= ' + np.str(native_score)), row=1, col=3)\n",
    "\n",
    "fig.add_trace(go.Scatter(x=nyc_final['perc_asian'],y=nyc_final['percent_pos'], mode=\"markers\",opacity=0.5,text=nyc_final['ZCTA']), row=2, col=1)\n",
    "fig.add_trace(go.Scatter(x=nyc_final['perc_asian'], y=nyc_final['best_fit_asian'],mode='lines',text='r= ' + np.str(asian_score)), row=2, col=1)\n",
    "\n",
    "fig.add_trace(go.Scatter(x=nyc_final['perc_hawaiian'],y=nyc_final['percent_pos'], mode=\"markers\",opacity=0.5,text=nyc_final['ZCTA']), row=2, col=2)\n",
    "fig.add_trace(go.Scatter(x=nyc_final['perc_hawaiian'], y=nyc_final['best_fit_hawaiian'],mode='lines',text='r= ' + np.str(hawaiian_score)), row=2, col=2)\n",
    "\n",
    "fig.add_trace(go.Scatter(x=nyc_final['perc_other'],y=nyc_final['percent_pos'], mode=\"markers\",opacity=0.5,text=nyc_final['ZCTA']), row=2, col=3)\n",
    "fig.add_trace(go.Scatter(x=nyc_final['perc_other'], y=nyc_final['best_fit_other'],mode='lines',text='r= ' + np.str(other_score)), row=2, col=3)\n",
    "\n",
    "fig.add_trace(go.Scatter(x=nyc_final['perc_two'],y=nyc_final['percent_pos'], mode=\"markers\",opacity=0.5,text=nyc_final['ZCTA']), row=3, col=1)\n",
    "fig.add_trace(go.Scatter(x=nyc_final['perc_two'], y=nyc_final['best_fit_two'],mode='lines',text='r= ' + np.str(two_score)), row=3, col=1)\n",
    "\n",
    "\n",
    "fig.update_layout(title='Prevalence of Race and Percentage of Positive Tests',\n",
    "                 yaxis_title='Percentage of Positive Tests',\n",
    "                 showlegend=False)\n",
    "\n",
    "fig.update_xaxes(title_text=\"Percentage White\", row=1, col=1,tickfont={\"size\":10},titlefont={\"size\":10},title_standoff=0)\n",
    "fig.update_xaxes(title_text=\"Percentage Black\", row=1, col=2,tickfont={\"size\":10},titlefont={\"size\":10},title_standoff=0)\n",
    "fig.update_xaxes(title_text=\"Percentage Native\", row=1, col=3,tickfont={\"size\":10},titlefont={\"size\":10},title_standoff=0)\n",
    "fig.update_xaxes(title_text=\"Percentage Asian\", row=2, col=1,tickfont={\"size\":10},titlefont={\"size\":10},title_standoff=0)\n",
    "fig.update_xaxes(title_text=\"Percentage Hawaiian\", row=2, col=2,tickfont={\"size\":10},titlefont={\"size\":10},title_standoff=0)\n",
    "fig.update_xaxes(title_text=\"Percentage Other\", row=2, col=3,tickfont={\"size\":10},titlefont={\"size\":10},title_standoff=0)\n",
    "fig.update_xaxes(title_text=\"Percentage Two Races\", row=3, col=1,tickfont={\"size\":10},titlefont={\"size\":10},title_standoff=0)\n",
    "\n",
    "fig.update_yaxes(title_text=\"Percent Positive\",row=1,col=1,titlefont={\"size\":10},title_standoff=0,tickfont={\"size\":10})\n",
    "fig.update_yaxes(title_text=\"Percent Positive\",row=1,col=2,titlefont={\"size\":10},title_standoff=0,tickfont={\"size\":10})\n",
    "fig.update_yaxes(title_text=\"Percent Positive\",row=1,col=3,titlefont={\"size\":10},title_standoff=0,tickfont={\"size\":10})\n",
    "fig.update_yaxes(title_text=\"Percent Positive\",row=2,col=1,titlefont={\"size\":10},title_standoff=0,tickfont={\"size\":10})\n",
    "fig.update_yaxes(title_text=\"Percent Positive\",row=2,col=2,titlefont={\"size\":10},title_standoff=0,tickfont={\"size\":10})\n",
    "fig.update_yaxes(title_text=\"Percent Positive\",row=2,col=3,titlefont={\"size\":10},title_standoff=0,tickfont={\"size\":10})\n",
    "fig.update_yaxes(title_text=\"Percent Positive\",row=3,col=1,titlefont={\"size\":10},title_standoff=0,tickfont={\"size\":10})\n",
    "                 \n",
    "for i in fig['layout']['annotations']:\n",
    "    i['font'] = dict(size=12)\n",
    "\n",
    "fig.show()"
   ]
  },
  {
   "cell_type": "code",
   "execution_count": null,
   "metadata": {},
   "outputs": [],
   "source": [
    "#Export above figure to an .html file for hosting.\n",
    "pio.write_html(fig, file='race-cases.html', auto_open=False)"
   ]
  },
  {
   "cell_type": "markdown",
   "metadata": {},
   "source": [
    "#### All-in-One"
   ]
  },
  {
   "cell_type": "code",
   "execution_count": null,
   "metadata": {},
   "outputs": [],
   "source": [
    "fig = go.Figure()\n",
    "\n",
    "fig.add_trace(go.Scatter(x=nyc_final['perc_white'],y=nyc_final['percent_pos'], mode=\"markers\",opacity=0.5,legendgroup='White',name='White',text=nyc_final['ZCTA']))\n",
    "fig.add_trace(go.Scatter(x=nyc_final['perc_white'], y=nyc_final['best_fit_white'],mode='lines',legendgroup='White',text='r= ' + np.str(white_score),showlegend=False))\n",
    "\n",
    "fig.add_trace(go.Scatter(x=nyc_final['perc_black'],y=nyc_final['percent_pos'], mode=\"markers\",opacity=0.5,visible='legendonly',legendgroup='Black',name='Black',text=nyc_final['ZCTA']))\n",
    "fig.add_trace(go.Scatter(x=nyc_final['perc_black'], y=nyc_final['best_fit_black'],mode='lines',visible='legendonly',legendgroup='Black',text='r= ' + np.str(black_score),showlegend=False))\n",
    "\n",
    "fig.add_trace(go.Scatter(x=nyc_final['perc_native'],y=nyc_final['percent_pos'], mode=\"markers\",opacity=0.5,visible='legendonly',legendgroup='Native',name='Native',text=nyc_final['ZCTA']))\n",
    "fig.add_trace(go.Scatter(x=nyc_final['perc_native'], y=nyc_final['best_fit_native'],mode='lines',visible='legendonly',legendgroup='Native',text='r= ' + np.str(native_score),showlegend=False))\n",
    "\n",
    "fig.add_trace(go.Scatter(x=nyc_final['perc_asian'],y=nyc_final['percent_pos'], mode=\"markers\",opacity=0.5,visible='legendonly',legendgroup='Asian',name='Asian',text=nyc_final['ZCTA']))\n",
    "fig.add_trace(go.Scatter(x=nyc_final['perc_asian'], y=nyc_final['best_fit_asian'],mode='lines',visible='legendonly',legendgroup='Asian',text='r= ' + np.str(asian_score),showlegend=False))\n",
    "\n",
    "fig.add_trace(go.Scatter(x=nyc_final['perc_hawaiian'],y=nyc_final['percent_pos'], mode=\"markers\",opacity=0.5,visible='legendonly',legendgroup='Hawaiian',name='Hawaiian',text=nyc_final['ZCTA']))\n",
    "fig.add_trace(go.Scatter(x=nyc_final['perc_hawaiian'], y=nyc_final['best_fit_hawaiian'],mode='lines',visible='legendonly',legendgroup='Hawaiian',text='r= ' + np.str(hawaiian_score),showlegend=False))\n",
    "\n",
    "fig.add_trace(go.Scatter(x=nyc_final['perc_other'],y=nyc_final['percent_pos'], mode=\"markers\",opacity=0.5,visible='legendonly',legendgroup='Other',name='Other',text=nyc_final['ZCTA']))\n",
    "fig.add_trace(go.Scatter(x=nyc_final['perc_other'], y=nyc_final['best_fit_other'],mode='lines',visible='legendonly',legendgroup='Other',text='r= ' + np.str(other_score),showlegend=False))\n",
    "\n",
    "fig.add_trace(go.Scatter(x=nyc_final['perc_two'],y=nyc_final['percent_pos'], mode=\"markers\",opacity=0.5,visible='legendonly',legendgroup='Two Races',name='Two Races',text=nyc_final['ZCTA']))\n",
    "fig.add_trace(go.Scatter(x=nyc_final['perc_two'], y=nyc_final['best_fit_two'],mode='lines',visible='legendonly',legendgroup='Two Races',text='r= ' + np.str(two_score),showlegend=False))\n",
    "\n",
    "\n",
    "fig.update_layout(title='Prevalence of Race and Percentage of Positive Tests',\n",
    "                 yaxis_title='Percentage of Positive Tests',\n",
    "                 xaxis_title='Prevalence of Race',\n",
    "                 showlegend=True,\n",
    "                 legend_title_text='Race')\n",
    "\n",
    "fig.show()"
   ]
  },
  {
   "cell_type": "code",
   "execution_count": null,
   "metadata": {},
   "outputs": [],
   "source": [
    "#Export above figure to an .html file for hosting.\n",
    "pio.write_html(fig, file='race-cases-individual.html', auto_open=False)"
   ]
  },
  {
   "cell_type": "code",
   "execution_count": null,
   "metadata": {},
   "outputs": [],
   "source": [
    "## plotting percent positive against percent black\n",
    "ax = sns.regplot('perc_black', 'percent_pos', label =\"perc black\", data=nyc_final, scatter_kws={\"s\": 20})\n",
    "ax = sns.regplot('perc_white', 'percent_pos', label =\"perc white\", data=nyc_final, scatter_kws={\"s\": 20})\n",
    "ax.set(xlabel='percent black/white');\n",
    "ax.legend();"
   ]
  },
  {
   "cell_type": "code",
   "execution_count": null,
   "metadata": {},
   "outputs": [],
   "source": [
    "## minorities vs covid\n",
    "ax = sns.regplot('perc_minority', 'percent_pos', label='minority group', data=nyc_cat, scatter_kws={\"s\": 20})\n",
    "ax = sns.regplot('perc_majority', 'percent_pos', label='majority group', data=nyc_cat, scatter_kws={\"s\": 20})\n",
    "ax.legend();\n"
   ]
  },
  {
   "cell_type": "markdown",
   "metadata": {},
   "source": [
    "### Job type comparison"
   ]
  },
  {
   "cell_type": "markdown",
   "metadata": {},
   "source": [
    "#### Essential Workers vs. Non-Essential Workers"
   ]
  },
  {
   "cell_type": "code",
   "execution_count": null,
   "metadata": {},
   "outputs": [],
   "source": [
    "reg_wfh = LinearRegression().fit(np.vstack(nyc_final['perc_wfh']), nyc_final['percent_pos'])\n",
    "nyc_final['best_fit_wfh'] = reg_wfh.predict(np.vstack(nyc_final['perc_wfh']))\n",
    "wfh_score = np.sqrt(reg_wfh.score(np.vstack(nyc_final['perc_wfh']), nyc_final['percent_pos']))\n",
    "\n",
    "reg_ess = LinearRegression().fit(np.vstack(nyc_final['perc_ess']), nyc_final['percent_pos'])\n",
    "nyc_final['best_fit_ess'] = reg_ess.predict(np.vstack(nyc_final['perc_ess']))\n",
    "ess_score = np.sqrt(reg_ess.score(np.vstack(nyc_final['perc_ess']), nyc_final['percent_pos']))\n",
    "\n",
    "reg_non_ess = LinearRegression().fit(np.vstack(nyc_final['perc_non_ess']), nyc_final['percent_pos'])\n",
    "nyc_final['best_fit_non_ess'] = reg_non_ess.predict(np.vstack(nyc_final['perc_non_ess']))\n",
    "non_ess_score = np.sqrt(reg_non_ess.score(np.vstack(nyc_final['perc_non_ess']), nyc_final['percent_pos']))\n"
   ]
  },
  {
   "cell_type": "code",
   "execution_count": null,
   "metadata": {},
   "outputs": [],
   "source": [
    "from plotly.subplots import make_subplots\n",
    "\n",
    "fig = make_subplots(rows=1, cols=3,\n",
    "                   subplot_titles=[\"Work from Home-enabled\", \"Non-WFH, essential\", \"Non-WFH, non-essential\"],\n",
    "                   shared_yaxes=False)\n",
    "\n",
    "fig.add_trace(go.Scatter(x=nyc_final['perc_wfh'],y=nyc_final['percent_pos'], mode=\"markers\",opacity=0.5,text=nyc_final['ZCTA']), row=1, col=1)\n",
    "fig.add_trace(go.Scatter(x=nyc_final['perc_wfh'], y=nyc_final['best_fit_wfh'],mode='lines',text='r= ' + np.str(wfh_score)), row=1, col=1)\n",
    "\n",
    "fig.add_trace(go.Scatter(x=nyc_final['perc_ess'],y=nyc_final['percent_pos'], mode=\"markers\",opacity=0.5,text=nyc_final['ZCTA']), row=1, col=2)\n",
    "fig.add_trace(go.Scatter(x=nyc_final['perc_ess'], y=nyc_final['best_fit_ess'],mode='lines',text='r= ' + np.str(ess_score)), row=1, col=2)\n",
    "\n",
    "fig.add_trace(go.Scatter(x=nyc_final['perc_non_ess'],y=nyc_final['percent_pos'], mode=\"markers\",opacity=0.5,text=nyc_final['ZCTA']), row=1, col=3)\n",
    "fig.add_trace(go.Scatter(x=nyc_final['perc_non_ess'], y=nyc_final['best_fit_non_ess'],mode='lines',text='r= ' + np.str(non_ess_score)), row=1, col=3)\n",
    "\n",
    "\n",
    "\n",
    "\n",
    "fig.update_layout(title='Prevalence of Job Type and Percentage of Positive Tests',\n",
    "                 showlegend=False)\n",
    "\n",
    "fig.update_xaxes(title_text=\"Percentage WFH\", row=1, col=1,tickfont={\"size\":10},titlefont={\"size\":10},title_standoff=0)\n",
    "fig.update_xaxes(title_text=\"Percentage Non-WFH, Essential\", row=1, col=2,tickfont={\"size\":10},titlefont={\"size\":10},title_standoff=0)\n",
    "fig.update_xaxes(title_text=\"Percentage Non-WFH, Non-Essential\", row=1, col=3,tickfont={\"size\":10},titlefont={\"size\":10},title_standoff=0)\n",
    "\n",
    "fig.update_yaxes(title_text=\"Percent Positive\",row=1,col=1,titlefont={\"size\":10},title_standoff=0,tickfont={\"size\":10})\n",
    "fig.update_yaxes(title_text=\"Percent Positive\",row=1,col=2,titlefont={\"size\":10},title_standoff=0,tickfont={\"size\":10})\n",
    "fig.update_yaxes(title_text=\"Percent Positive\",row=1,col=3,titlefont={\"size\":10},title_standoff=0,tickfont={\"size\":10})\n",
    "                 \n",
    "for i in fig['layout']['annotations']:\n",
    "    i['font'] = dict(size=12)\n",
    "\n",
    "fig.show()"
   ]
  },
  {
   "cell_type": "code",
   "execution_count": null,
   "metadata": {},
   "outputs": [],
   "source": [
    "#Export above figure to an .html file for hosting.\n",
    "pio.write_html(fig, file='job-percentage.html', auto_open=False)"
   ]
  },
  {
   "cell_type": "code",
   "execution_count": null,
   "metadata": {},
   "outputs": [],
   "source": [
    "## plotting positive cases against percent retail workers (i can't tell which is better for x-axis)\n",
    "ax = sns.regplot('Finance and Insurance', 'percent_pos', label =\"finance\", data=nyc_final, scatter_kws={\"s\": 20})\n",
    "ax = sns.regplot('Health Care and Social Assistance', 'percent_pos', label =\"healthcare\", data=nyc_final, scatter_kws={\"s\": 20})\n",
    "ax.legend();\n"
   ]
  },
  {
   "cell_type": "code",
   "execution_count": null,
   "metadata": {},
   "outputs": [],
   "source": [
    "## blue collar vs covid \n",
    "ax = sns.regplot('perc_blue', 'percent_pos', label='blue collar', data=nyc_cat, scatter_kws={\"s\": 20})\n",
    "ax = sns.regplot('perc_white', 'percent_pos', label='white collar', data=nyc_cat, scatter_kws={\"s\": 20})\n",
    "ax.legend();\n"
   ]
  },
  {
   "cell_type": "markdown",
   "metadata": {},
   "source": [
    "### Correlation Matrix"
   ]
  },
  {
   "cell_type": "code",
   "execution_count": null,
   "metadata": {},
   "outputs": [],
   "source": [
    "nyc_corr_matrix = nyc_final.loc[:,['percent_pos','median_inc','perc_white','perc_black','perc_native','perc_asian','perc_hawaiian','perc_other','perc_two','perc_wfh','perc_ess','perc_non_ess']]\n",
    "nyc_corr_matrix = nyc_corr_matrix.corr()\n",
    "\n",
    "nyc_corr_matrix = nyc_corr_matrix.where(np.tril(np.ones(nyc_corr_matrix.shape)).astype(np.bool))\n",
    "nyc_corr_matrix"
   ]
  },
  {
   "cell_type": "code",
   "execution_count": null,
   "metadata": {},
   "outputs": [],
   "source": [
    "import numpy as np\n",
    "import plotly.graph_objects as go\n",
    "import plotly.io as pio\n",
    "\n",
    "heat = go.Heatmap(z=nyc_corr_matrix,\n",
    "                  x=nyc_corr_matrix.columns.values,\n",
    "                  y=nyc_corr_matrix.columns.values,\n",
    "                  xgap=1, ygap=1,\n",
    "                  colorscale='RdBu',\n",
    "                  colorbar_thickness=20,\n",
    "                  colorbar_ticklen=3,\n",
    "                   )\n",
    "\n",
    "\n",
    "title = 'Correlation Matrix'               \n",
    "\n",
    "layout = go.Layout(title_text=title, title_x=0, \n",
    "                   width=600, height=600,\n",
    "                   xaxis_showgrid=False,\n",
    "                   yaxis_showgrid=False,\n",
    "                   yaxis_autorange='reversed',\n",
    "                   plot_bgcolor='white'\n",
    "            )\n",
    "   \n",
    "fig=go.Figure(data=[heat], layout=layout)  \n",
    "fig.show() "
   ]
  },
  {
   "cell_type": "code",
   "execution_count": null,
   "metadata": {},
   "outputs": [],
   "source": [
    "#Export above figure to an .html file for hosting.\n",
    "pio.write_html(fig, file='corr-matrix.html', auto_open=False)"
   ]
  },
  {
   "cell_type": "markdown",
   "metadata": {},
   "source": [
    "### Hospital Analysis"
   ]
  },
  {
   "cell_type": "code",
   "execution_count": null,
   "metadata": {},
   "outputs": [],
   "source": [
    "nyc_hospitals.dropna(subset=['Postcode'],inplace=True)\n",
    "nyc_hospitals['Postcode'] = nyc_hospitals['Postcode'].apply(int)"
   ]
  },
  {
   "cell_type": "code",
   "execution_count": null,
   "metadata": {},
   "outputs": [],
   "source": [
    "vals = []\n",
    "for i in nyc_cat['ZCTA']:\n",
    "    if i in nyc_hospitals['Postcode'].values:\n",
    "        vals.append(1)\n",
    "    else:\n",
    "        vals.append(0)\n",
    "\n",
    "nyc_cat['hospital'] = vals\n",
    "nyc_cat.head()"
   ]
  },
  {
   "cell_type": "code",
   "execution_count": null,
   "metadata": {},
   "outputs": [],
   "source": [
    "hospital_avg = np.mean(nyc_cat[nyc_cat['hospital'] == 1]['percent_pos'])\n",
    "no_hospital_avg = np.mean(nyc_cat[nyc_cat['hospital'] == 0]['percent_pos'])\n",
    "\n",
    "vals2 = []\n",
    "\n",
    "for i in nyc_cat['hospital']:\n",
    "    if i == 1:\n",
    "        vals2.append(hospital_avg)\n",
    "    else:\n",
    "        vals2.append(no_hospital_avg)\n",
    "        \n",
    "nyc_cat['avg_for_plotting'] = vals2\n",
    "nyc_cat.head()"
   ]
  },
  {
   "cell_type": "code",
   "execution_count": null,
   "metadata": {},
   "outputs": [],
   "source": [
    "import plotly\n",
    "import plotly.graph_objects as go\n",
    "\n",
    "fig = go.Figure()\n",
    "\n",
    "fig.add_trace(go.Scatter(x=nyc_cat[nyc_cat['hospital'] == 1]['perc_minority'],\n",
    "                y=nyc_cat[nyc_cat['hospital'] == 1]['percent_pos'],\n",
    "                text=nyc_cat['ZCTA'],\n",
    "                name='Health Center Present',\n",
    "                mode='markers',\n",
    "                marker=dict(\n",
    "                    size=10,\n",
    "                    opacity=0.5,\n",
    "                    color='blue'),\n",
    "                legendgroup='Health Center Present',\n",
    "                ))\n",
    "\n",
    "fig.add_trace(go.Scatter(\n",
    "        x=[0,1],\n",
    "        y=[hospital_avg, hospital_avg],\n",
    "        mode='lines',\n",
    "        name='Health Center Present Avg',\n",
    "        text='Health Center Present Avg',\n",
    "        legendgroup='Health Center Present',\n",
    "        line=dict(\n",
    "            color='blue'),\n",
    "        showlegend=False))\n",
    "\n",
    "fig.add_trace(go.Scatter(x=nyc_cat[nyc_cat['hospital'] == 0]['perc_minority'],\n",
    "                y=nyc_cat[nyc_cat['hospital'] == 0]['percent_pos'],\n",
    "                text=nyc_cat['ZCTA'],\n",
    "                name='No Health Center Present',\n",
    "                mode='markers',\n",
    "                marker=dict(\n",
    "                    size=10,\n",
    "                    opacity=0.5,\n",
    "                    color='red'),\n",
    "                legendgroup='No Health Center Present'\n",
    "                ))\n",
    "\n",
    "\n",
    "fig.add_trace(go.Scatter(\n",
    "        x=[0,1],\n",
    "        y=[no_hospital_avg, no_hospital_avg],\n",
    "        mode='lines',\n",
    "        name='No Health Center Present Avg',\n",
    "        text='No Health Center Present Avg',\n",
    "        legendgroup='No Health Center Present',\n",
    "        line=dict(\n",
    "            color='red'),\n",
    "        showlegend=False))\n",
    "\n",
    "fig.update_layout(title='Percent Minority, Percentage of Positive Tests, Presence of a Health Center',\n",
    "                 xaxis_title='Percent Minority',\n",
    "                 yaxis_title='Percentage of Positive Tests',\n",
    "                 showlegend=True)\n",
    "\n",
    "fig.show()"
   ]
  },
  {
   "cell_type": "code",
   "execution_count": null,
   "metadata": {},
   "outputs": [],
   "source": [
    "#Export above figure to an .html file for hosting.\n",
    "pio.write_html(fig, file='hospital-percentage.html', auto_open=False)"
   ]
  },
  {
   "cell_type": "code",
   "execution_count": null,
   "metadata": {},
   "outputs": [],
   "source": []
  }
 ],
 "metadata": {
  "kernelspec": {
   "display_name": "Python 3",
   "language": "python",
   "name": "python3"
  },
  "language_info": {
   "codemirror_mode": {
    "name": "ipython",
    "version": 3
   },
   "file_extension": ".py",
   "mimetype": "text/x-python",
   "name": "python",
   "nbconvert_exporter": "python",
   "pygments_lexer": "ipython3",
   "version": "3.7.3"
  }
 },
 "nbformat": 4,
 "nbformat_minor": 2
}
